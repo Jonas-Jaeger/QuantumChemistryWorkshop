{
 "cells": [
  {
   "cell_type": "code",
   "execution_count": 124,
   "metadata": {},
   "outputs": [
    {
     "name": "stdout",
     "output_type": "stream",
     "text": [
      "The autoreload extension is already loaded. To reload it, use:\n",
      "  %reload_ext autoreload\n"
     ]
    }
   ],
   "source": [
    "import numpy as np\n",
    "%load_ext autoreload\n",
    "%autoreload 0"
   ]
  },
  {
   "cell_type": "markdown",
   "metadata": {},
   "source": [
    "Notebook by **Maxime Dion** <maxime.dion@usherbrooke.ca><br>\n",
    "For the QSciTech-QuantumBC virtual workshop on gate-based quantum computing"
   ]
  },
  {
   "attachments": {},
   "cell_type": "markdown",
   "metadata": {},
   "source": [
    "## Tutorial for the VQE Activity\n",
    "\n",
    "For this activity, make sure you can easily import your versions of `hamiltonian.py`, `pauli_string.py` and `mapping.py` that you have completed in the mapping tutorial. You will also need your verions of `evaluator.py` and `solver.py`. Placing this notebook in the same `path` as these files is the easiest way to acheive this. At the end of this notebook, you should be in good position to complete these 2 additionnal files.\n",
    "\n",
    "The solution we suggest here is NOT mandatory. If you find ways to make it better and more efficient, go on and impress us! On the other hand, by completing all sections of this notebook you'll be able to :\n",
    "- Prepare a Quantum State based on a varitional form (circuit);\n",
    "- Measure qubits in the X, Y and Z basis;\n",
    "- Estimate expectation value of Pauli String on a quantum state;\n",
    "- Evaluate the expectation value of an Hamiltonian in the form of a Linear Combinaison of Pauli Strings;\n",
    "- Run a minimization algorithm on the energy expectation fonction to find the ground state of a Hamiltonian;\n",
    "- Dance to express your overwhelming sense of accomplishment\n",
    "\n",
    "**Important**\n",
    "\n",
    "When you modify and save a `*.py` file you need to re-import it so that your modifications can be taken into account when you re-execute a call. By adding the magic command `%autoreload` at the beginning of a cell, you make sure that the modifications you did to the `*.py` files are taken into account when you re-run a cell and that you can see the effect.\n",
    "\n",
    "If you encounter unusual results, restart the kernel and try again.\n",
    "\n",
    "**Note on numbering**\n",
    "\n",
    "When you ask a question you can refer to the section name or the section number.\n",
    "\n",
    "To enable the section numbering, please make sure you install [nbextensions](https://jupyter-contrib-nbextensions.readthedocs.io/en/latest/install.html). It is available in the conda distribution. After installation it you need to enable the option 'Table of contents (2)'."
   ]
  },
  {
   "attachments": {},
   "cell_type": "markdown",
   "metadata": {},
   "source": [
    "# Variationnal Quantum States\n",
    "\n",
    "Every quantum circuit starts with all qubits in the state $|0\\rangle$. In order to prepare a quantum state $|\\psi\\rangle$ we need to prepare a `QuantumCircuit` that will modify the states of the qubits in order to get this specific state. The action of a circuit can always be represented as a unitiary operator.\n",
    "\n",
    "\\begin{align}\n",
    "    |\\psi\\rangle &= \\hat{U} |0 \\ldots 0\\rangle\n",
    "\\end{align}\n",
    "\n",
    "For a parametric state the `QuantumCircuit` and therefore the unitary $U$ will depend on some parameters that we wirte as $\\boldsymbol{\\theta}$.\n",
    "\n",
    "\\begin{align}\n",
    "    |\\psi(\\boldsymbol{\\theta})\\rangle &= \\hat{U}(\\boldsymbol{\\theta}) |0 \\ldots 0\\rangle\n",
    "\\end{align}\n",
    "\n",
    "We will see 2 ways to define Parametrized Quantum Circuits that represent Variationnal Quantum States. For the first method we only need the `QuantumCircuit` class from `qiskit.circuit`."
   ]
  },
  {
   "cell_type": "code",
   "execution_count": 125,
   "metadata": {},
   "outputs": [],
   "source": [
    "from qiskit.circuit import QuantumCircuit"
   ]
  },
  {
   "cell_type": "markdown",
   "metadata": {},
   "source": [
    "## Generating function\n",
    "The easiest way to generate a parametrized `QuantumCircuit` is to implement a function that takes parameters as arguments and returns a `QuantumCircuit`. Here is such a function that generates a 2 qubits QuantumCircuit."
   ]
  },
  {
   "cell_type": "code",
   "execution_count": 126,
   "metadata": {},
   "outputs": [],
   "source": [
    "def example_2qubits_2params_quantum_circuit(theta,phi):\n",
    "    qc = QuantumCircuit(2)\n",
    "    qc.ry(theta,0)\n",
    "    qc.rz(phi,0)\n",
    "    qc.cx(0,1)\n",
    "    return qc"
   ]
  },
  {
   "cell_type": "markdown",
   "metadata": {},
   "source": [
    "To visualize this circuit we first need to call the generating function with dummy argument values for it to return a circuit. We can draw the circuit. The `'mpl'` option draws the circuit in a fancy way using `matplotlib`. If you are experiencing problems, you can remove this option."
   ]
  },
  {
   "cell_type": "code",
   "execution_count": 127,
   "metadata": {},
   "outputs": [
    {
     "data": {
      "text/plain": "<Figure size 370.906x200.667 with 1 Axes>",
      "image/png": "[encoded data removed]"
     },
     "execution_count": 127,
     "metadata": {},
     "output_type": "execute_result"
    }
   ],
   "source": [
    "varform_qc = example_2qubits_2params_quantum_circuit\n",
    "qc = varform_qc(1,2)\n",
    "qc.draw('mpl')"
   ]
  },
  {
   "cell_type": "markdown",
   "metadata": {},
   "source": [
    "## Using qiskit parameter\n",
    "\n",
    "The other way to generate a parametrized `QuantumCircuit` is to use the `Parameter` class in `qiskit`."
   ]
  },
  {
   "cell_type": "code",
   "execution_count": 128,
   "metadata": {},
   "outputs": [],
   "source": [
    "from qiskit.circuit import Parameter"
   ]
  },
  {
   "cell_type": "markdown",
   "metadata": {},
   "source": [
    "Here is the same circuit as before done with this method."
   ]
  },
  {
   "cell_type": "code",
   "execution_count": 129,
   "metadata": {},
   "outputs": [
    {
     "data": {
      "text/plain": "<qiskit.circuit.instructionset.InstructionSet at 0x7fce0caf0160>"
     },
     "execution_count": 129,
     "metadata": {},
     "output_type": "execute_result"
    }
   ],
   "source": [
    "a = Parameter('a')\n",
    "b = Parameter('b')\n",
    "varform_qc = QuantumCircuit(2)\n",
    "varform_qc.ry(a,0)\n",
    "varform_qc.rz(b,0)\n",
    "varform_qc.cx(0,1)"
   ]
  },
  {
   "cell_type": "markdown",
   "metadata": {},
   "source": [
    "Done this way the parametrized circuit can be drawn right away."
   ]
  },
  {
   "cell_type": "code",
   "execution_count": 130,
   "metadata": {},
   "outputs": [
    {
     "data": {
      "text/plain": "<Figure size 370.906x200.667 with 1 Axes>",
      "image/png": "[encoded data removed]"
     },
     "execution_count": 130,
     "metadata": {},
     "output_type": "execute_result"
    }
   ],
   "source": [
    "varform_qc.draw('mpl')"
   ]
  },
  {
   "cell_type": "markdown",
   "metadata": {},
   "source": [
    "To see what are the parameters of a parametrized `QuantumCircuit` you can use"
   ]
  },
  {
   "cell_type": "code",
   "execution_count": 131,
   "metadata": {},
   "outputs": [
    {
     "data": {
      "text/plain": "ParameterView([Parameter(a), Parameter(b)])"
     },
     "execution_count": 131,
     "metadata": {},
     "output_type": "execute_result"
    }
   ],
   "source": [
    "varform_qc.parameters"
   ]
  },
  {
   "attachments": {},
   "cell_type": "markdown",
   "metadata": {},
   "source": [
    "To assign values to the different parameters we need to use the `QuantumCircuit.assign_paremeters()` method. This methods takes a `dict` as an argument containing the `Parameter`s and their `value`s."
   ]
  },
  {
   "cell_type": "code",
   "execution_count": 132,
   "metadata": {},
   "outputs": [
    {
     "data": {
      "text/plain": "<Figure size 370.906x200.667 with 1 Axes>",
      "image/png": "[encoded data removed]"
     },
     "execution_count": 132,
     "metadata": {},
     "output_type": "execute_result"
    }
   ],
   "source": [
    "param_dict = {a : 1, b : 2}\n",
    "qc = varform_qc.assign_parameters(param_dict)\n",
    "qc.draw('mpl')"
   ]
  },
  {
   "cell_type": "markdown",
   "metadata": {},
   "source": [
    "If you want to provide the parameter values as a `list` or a `np.array` you can build the `dict` directly. Just make sure that the order you use in `param_values` corresponds to the other of `varform_qc.parameters`."
   ]
  },
  {
   "cell_type": "code",
   "execution_count": 133,
   "metadata": {},
   "outputs": [
    {
     "name": "stdout",
     "output_type": "stream",
     "text": [
      "{Parameter(a): 1, Parameter(b): 2}\n"
     ]
    }
   ],
   "source": [
    "param_values = [1, 2]\n",
    "param_dict = dict(zip(varform_qc.parameters,param_values))\n",
    "print(param_dict)"
   ]
  },
  {
   "cell_type": "markdown",
   "metadata": {},
   "source": [
    "## Varforms circuits for H2\n",
    "Using the method of you choice, prepare 2 different 4-qubit `QuantumCircuit`s. \n",
    "- The first should take 1 parameter to cover the real coefficients state sub space spanned by $|0101\\rangle$ and $|1010\\rangle$.\n",
    "- The second should take 3 parameters to cover the real coefficients state sub space spanned by $|0101\\rangle$, $|0110\\rangle$, $|1001\\rangle$ and $|1010\\rangle$.\n",
    "\n",
    "Revisit the presentation to find such circuits."
   ]
  },
  {
   "cell_type": "code",
   "execution_count": 134,
   "metadata": {},
   "outputs": [
    {
     "data": {
      "text/plain": "<IPython.core.display.Latex object>",
      "text/latex": "$$ |1010\\rangle$$"
     },
     "execution_count": 134,
     "metadata": {},
     "output_type": "execute_result"
    }
   ],
   "source": [
    "from qiskit.quantum_info import Statevector\n",
    "varform_4qubits_1param = QuantumCircuit(4)\n",
    "a = Parameter('a')\n",
    "\n",
    "\n",
    "varform_4qubits_1param.ry(a,0)\n",
    "varform_4qubits_1param.cnot(0, 1)\n",
    "varform_4qubits_1param.cnot(1, 2)\n",
    "varform_4qubits_1param.cnot(2, 3)\n",
    "varform_4qubits_1param.x([1, 3])\n",
    "\n",
    "\n",
    "varform_4qubits_1param.draw('mpl')\n",
    "\n",
    "Statevector.from_instruction(varform_4qubits_1param.bind_parameters({a: 0})).draw('latex')"
   ]
  },
  {
   "cell_type": "code",
   "execution_count": 135,
   "metadata": {},
   "outputs": [
    {
     "data": {
      "text/plain": "<Figure size 705.552x367.889 with 1 Axes>",
      "image/png": "[encoded data removed]"
     },
     "execution_count": 135,
     "metadata": {},
     "output_type": "execute_result"
    }
   ],
   "source": [
    "varform_4qubits_3params = QuantumCircuit(4)\n",
    "a = Parameter('a')\n",
    "b = Parameter('b')\n",
    "c = Parameter('c')\n",
    "\n",
    "varform_4qubits_3params.ry(c, 3)\n",
    "varform_4qubits_3params.cnot(3,2)\n",
    "varform_4qubits_3params.x(2)\n",
    "\n",
    "varform_4qubits_3params.cry(a, 2, 0)\n",
    "varform_4qubits_3params.cry(b, 3, 1)\n",
    "varform_4qubits_3params.cnot(0, 1)\n",
    "varform_4qubits_3params.x(0)\n",
    "\n",
    "#varform_4qubits_3params.ry(a,0)\n",
    "#varform_4qubits_3params.ry(b,2)\n",
    "#varform_4qubits_3params.h(1)\n",
    "#varform_4qubits_3params.cnot(0, 1)\n",
    "#varform_4qubits_3params.cnot(2, 3)\n",
    "#varform_4qubits_3params.x([0, 2])\n",
    "#varform_4qubits_3params.ry(c,1)\n",
    "#varform_4qubits_3params.cnot(1, 2)\n",
    "\n",
    "varform_4qubits_3params.draw('mpl')\n",
    "#Statevector.from_instruction(varform_4qubits_3params.bind_parameters({a: np.pi/2, b: np.pi/4, c: np.pi/8})).draw('latex')"
   ]
  },
  {
   "attachments": {},
   "cell_type": "markdown",
   "metadata": {},
   "source": [
    "# Estimation\n",
    "The `Estimator` is an object that will help us to estimate the expectation value of an observable such as the Hamiltonian (in the for of a `LinearCombinaisonPauliString`) on a specific variational form and backend. To initialize an `Estimator` you should provide :\n",
    "\n",
    "**Mandatory**\n",
    "- A **variationnal form** that can create a `QuantumCircuit` given a set of `params`;\n",
    "- A **backend** `qiskit.Backend` (a simulator or an actual device handle) on which to run the `QuantumCircuit`.\n",
    "\n",
    "**Optional**\n",
    "- `execute_opt` is a `dict` containing the optional arguments to pass to the `qiskit.execute` method (ex : `{'shots' : 1024}`);\n",
    "- `record` can be a function used to record results of the estimation."
   ]
  },
  {
   "attachments": {},
   "cell_type": "markdown",
   "metadata": {},
   "source": [
    "Once you'll have completed the code, the creation/usage of an `Estimator` such as `BasicEstimator` will go like this :\n",
    "\n",
    "<code>\n",
    "estimator = BasicEstimator(varform_qc, backend)<br>estimator.set_observable(observable)<br>expected_value = estimator.eval(params)\n",
    "</code>\n",
    "\n",
    "First you'll initialize the estimator.\n",
    "\n",
    "Next, you'll provide the observables (`LinearCombinaisonPauliString`) you want to estimate the expectation value using the `set_observable()` method. \n",
    "\n",
    "Finally, you'll call the `eval()` method that will return the estimation of the observable's expected value. Mathematicaly, the use of this method corresponds to \n",
    "\n",
    "\\begin{align}\n",
    "E(\\boldsymbol{\\theta}).\n",
    "\\end{align}\n",
    "\n",
    "We will now go through the different pieces neccessary to complete the `Estimator` class."
   ]
  },
  {
   "attachments": {},
   "cell_type": "markdown",
   "metadata": {},
   "source": [
    "## State circuit\n",
    "\n",
    "The first method we need to implement is `prepare_state_circuit()`. This method should take a `list` or a `ndarray` of parameters and replace then into the `varform` quantum circuit and return the `QuantumCircuit` that prepares the quantum state.\n",
    "\n",
    "You can test you code here with the abstract class."
   ]
  },
  {
   "cell_type": "code",
   "execution_count": 136,
   "metadata": {},
   "outputs": [],
   "source": [
    "from qiskit import Aer, execute\n",
    "qasm_simulator = Aer.get_backend('qasm_simulator')\n",
    "from estimator import Estimator"
   ]
  },
  {
   "cell_type": "code",
   "execution_count": 137,
   "metadata": {},
   "outputs": [
    {
     "data": {
      "text/plain": "<Figure size 621.941x367.889 with 1 Axes>",
      "image/png": "[encoded data removed]"
     },
     "execution_count": 137,
     "metadata": {},
     "output_type": "execute_result"
    }
   ],
   "source": [
    "%autoreload\n",
    "varform = varform_4qubits_1param\n",
    "backend = qasm_simulator\n",
    "estimator = Estimator(varform,backend)\n",
    "params = np.random.random(1)\n",
    "state_circuit = estimator.prepare_state_circuit(params)\n",
    "\n",
    "state_circuit.draw('mpl')"
   ]
  },
  {
   "attachments": {},
   "cell_type": "markdown",
   "metadata": {},
   "source": [
    "## Pauli Based Measurements\n",
    "We want to estimate the expectation value of an observable for the quantum state we are preparing.\n",
    "\n",
    "We have seen that even if a quantum computer can only measure qubits in the Z-basis, the X and Y-basis are accessible if we *rotate* the quantum state before measuring. \n",
    "\n",
    "Implement the `@staticmethod` : `diagonalizing_pauli_string_circuit()` in the `Estimator` class in file `Estimator.py` that returns a `QuantumCircuit` that performs a transformation which diagonalize the provided `PauliString`.\n",
    "\n",
    "First we import the abstract class `Estimator` and the `PauliString` class."
   ]
  },
  {
   "cell_type": "code",
   "execution_count": 138,
   "metadata": {},
   "outputs": [],
   "source": [
    "from pauli_string import PauliString"
   ]
  },
  {
   "cell_type": "markdown",
   "metadata": {},
   "source": [
    "Test your code with the next cell."
   ]
  },
  {
   "cell_type": "code",
   "execution_count": 139,
   "metadata": {},
   "outputs": [
    {
     "name": "stdout",
     "output_type": "stream",
     "text": [
      "ZIZZ\n"
     ]
    },
    {
     "data": {
      "text/plain": "<Figure size 287.496x367.889 with 1 Axes>",
      "image/png": "[encoded data removed]"
     },
     "execution_count": 139,
     "metadata": {},
     "output_type": "execute_result"
    }
   ],
   "source": [
    "%autoreload\n",
    "pauli_string = PauliString.from_str('ZIXY')\n",
    "diagonalizing_circuit, diagonal_pauli_string = Estimator.diagonalizing_pauli_string_circuit(pauli_string)\n",
    "print(diagonal_pauli_string) #should be 'ZIZZ'\n",
    "diagonalizing_circuit.draw('mpl')"
   ]
  },
  {
   "attachments": {},
   "cell_type": "markdown",
   "metadata": {},
   "source": [
    "## Circuit and diagonal observables preperation (`BasicEstimator`)\n",
    "\n",
    "The `diagonal_observables_and_circuits()` method is specific to the sub-types of `Estimator`. The two different types of `Estimator`s considered in this workshop are :\n",
    "- The `BasicEstimator` will run a single `QuantumCircuit` for each `PauliString` present in the provided observable (`LinearCombinaisonPauliString`).\n",
    "- The `BitwiseCommutingCliqueEstimator` will exploit Bitwise Commuting Clique to combine the estimation of Commuting `PauliString`s and reduce the number of different `QuantumCircuit` ran to estimate the expectation value of the observable. \n",
    "\n",
    "Implement the `diagonal_observables_and_circuits()` method in the `BasicEstimator` class in file `Estimator.py`. This method needs to convert each `PauliString` in the observable into a diagonal `PauliString` (of only `I` and `Z`) and a quantum circuit. The diagonal `PauliString` should then be combined with its associated coefficient into a  `LinearCombinaisonPauliString` of only one `PauliString` to form a diagonal observable. The quantum circuit should represent the transformation which convert the original `PauliString` into the respective diagonal `PauliString`. The method should return all the diagonal observables and respective quantum circuits into two `list`.\n",
    "\n",
    "**Note** The reason the diagonal `PauliString` are returned as `LinearCombinaisonPauliString` of only one `PauliString` and not a single `LinearCombinaisonPauliString` of many `PauliString` is to facilitate the implementation of the similar methods for the `BitwiseCommutingCliqueEstimator`. You can try to implemente this second `Estimator` if you wish.\n",
    "\n",
    "You can test your method on `2*ZIXY + 1*IXYZ`."
   ]
  },
  {
   "cell_type": "code",
   "execution_count": 140,
   "metadata": {},
   "outputs": [],
   "source": [
    "from estimator import BasicEstimator"
   ]
  },
  {
   "cell_type": "code",
   "execution_count": 141,
   "metadata": {},
   "outputs": [
    {
     "name": "stdout",
     "output_type": "stream",
     "text": [
      "1 pauli strings for 4 qubits (Real, Imaginary)\n",
      "ZZZZ (+2.00000,+0.00000)\n",
      "1 pauli strings for 4 qubits (Real, Imaginary)\n",
      "IIZZ (+1.00000,+0.00000)\n"
     ]
    }
   ],
   "source": [
    "%autoreload\n",
    "observable = 2*PauliString.from_str('ZXZX') + 1*PauliString.from_str('IIZZ')\n",
    "diagonal_observables, diagonalizing_circuits = BasicEstimator.diagonal_observables_and_circuits(observable)\n",
    "\n",
    "for diagonal_observable in diagonal_observables:\n",
    "    print(diagonal_observable)"
   ]
  },
  {
   "attachments": {},
   "cell_type": "markdown",
   "metadata": {},
   "source": [
    "You should get :\n",
    "\n",
    "<code>\n",
    "1 pauli strings for 4 qubits (Real, Imaginary)<br>\n",
    "ZZZZ (+2.00000,+0.00000)<br>\n",
    "\n",
    "1 pauli strings for 4 qubits (Real, Imaginary)<br>\n",
    "IIZZ (+1.00000,+0.00000)<br>\n",
    "</code>"
   ]
  },
  {
   "attachments": {},
   "cell_type": "markdown",
   "metadata": {},
   "source": [
    "## Set the observable\n",
    "\n",
    "You should now be able to instantiate the `BasicEstimator` and to set an observable using `set_observable()`. This method is already implemented. It calls the `diagonal_observables_and_circuits()` method you just made and stores the `diagonal_observables` and the `diagonalizing_circuits` into the instance of the `Estimator`."
   ]
  },
  {
   "attachments": {},
   "cell_type": "markdown",
   "metadata": {},
   "source": [
    "## Assemble circuits\n",
    "\n",
    "Now that we have the state circuit and diagonalizing circuits we can assemble all the quantum circuits that will be executed in the estimation of the expectation value of the observable. The method `assemble_circuits()` assembles the state circuit with each one of the diagonalizing circuits to create as many circuits. This method should also apply the final measurements.\n",
    "\n",
    "One you have implemented this method you can test it here:"
   ]
  },
  {
   "cell_type": "code",
   "execution_count": 142,
   "metadata": {},
   "outputs": [],
   "source": [
    "%autoreload\n",
    "\n",
    "varform = varform_4qubits_1param\n",
    "backend = qasm_simulator\n",
    "estimator = BasicEstimator(varform, backend)\n",
    "\n",
    "observable = 2*PauliString.from_str('ZXZX') + 1*PauliString.from_str('IIZZ')\n",
    "estimator.set_observable(observable)\n",
    "params = [0,]\n",
    "state_circuit = estimator.prepare_state_circuit(params)\n",
    "circuits = estimator.assemble_circuits(state_circuit)"
   ]
  },
  {
   "attachments": {},
   "cell_type": "markdown",
   "metadata": {},
   "source": [
    "You should then be able to execute these circuits..."
   ]
  },
  {
   "cell_type": "code",
   "execution_count": 143,
   "metadata": {},
   "outputs": [],
   "source": [
    "execute_opts = {'shots' : 1024, 'seed_simulator' : 1}\n",
    "job = execute(circuits, backend=qasm_simulator, **execute_opts)\n",
    "result = job.result()"
   ]
  },
  {
   "attachments": {},
   "cell_type": "markdown",
   "metadata": {},
   "source": [
    "... and obtain the results as counts."
   ]
  },
  {
   "cell_type": "code",
   "execution_count": 144,
   "metadata": {},
   "outputs": [
    {
     "name": "stdout",
     "output_type": "stream",
     "text": [
      "{'1110': 245, '1010': 234, '1111': 272, '1011': 273}\n"
     ]
    }
   ],
   "source": [
    "i = 0\n",
    "counts = result.get_counts(circuits[i])\n",
    "print(counts)"
   ]
  },
  {
   "attachments": {},
   "cell_type": "markdown",
   "metadata": {},
   "source": [
    "You should get :\n",
    "\n",
    "<code>\n",
    "{'0100': 245, '0000': 234, '0101': 272, '0001': 273}\n",
    "</code>"
   ]
  },
  {
   "attachments": {},
   "cell_type": "markdown",
   "metadata": {},
   "source": [
    "## Diagonal pauli string eigenvalue\n",
    "\n",
    "With these counts in hands, we can tackle the last steps of the estimation of the expectation value of an observable. First we need to compute the eigenvalue of a diagonal pauli string for a given basis state. This eigenvalue can only be `+1` or `-1`. This computation should be done in the `diagonal_pauli_string_eigenvalue()` method that you can implement now.\n",
    "\n",
    "You can test your implementation with the following code which should run `-1`."
   ]
  },
  {
   "cell_type": "code",
   "execution_count": 145,
   "metadata": {},
   "outputs": [
    {
     "data": {
      "text/plain": "-1"
     },
     "execution_count": 145,
     "metadata": {},
     "output_type": "execute_result"
    }
   ],
   "source": [
    "%autoreload\n",
    "\n",
    "diagonal_pauli_string = PauliString.from_str('ZIZZ')\n",
    "state = '0110'\n",
    "eigenvalue = Estimator.diagonal_pauli_string_eigenvalue(diagonal_pauli_string, state)\n",
    "eigenvalue"
   ]
  },
  {
   "attachments": {},
   "cell_type": "markdown",
   "metadata": {},
   "source": [
    "## Diagonal pauli string expectation value"
   ]
  },
  {
   "attachments": {},
   "cell_type": "markdown",
   "metadata": {},
   "source": [
    "Let's now estimate the expectation value of a single diagonal `PauliString`. This needs to be done in the method `estimate_diagonal_pauli_string_expectation_value()`. Implement this method using the one you just implemented and the following equation\n",
    "\\begin{align}\n",
    "    \\langle \\hat{\\mathcal{P}} \\rangle = \\frac{1}{N_\\text{tot}}\\sum_{q} N_q \\Lambda_q^{(\\hat{\\mathcal{P}})}\n",
    "\\end{align}\n",
    "where $\\Lambda_q^{(\\hat{\\mathcal{P}})}$ is the eigenvalue of the `PauliString` for a state $q$ and $N_q$ is the counts, i.e. the number of times this state was measured. Testing your implementation, you should get an expectation value of `0`."
   ]
  },
  {
   "cell_type": "code",
   "execution_count": 146,
   "metadata": {},
   "outputs": [
    {
     "data": {
      "text/plain": "0.0"
     },
     "execution_count": 146,
     "metadata": {},
     "output_type": "execute_result"
    }
   ],
   "source": [
    "%autoreload\n",
    "\n",
    "diagonal_pauli_string = PauliString.from_str('ZIZZ')\n",
    "counts = {'0110' : 50, '1001' : 50}\n",
    "pauli_string_expectation_value = Estimator.estimate_diagonal_pauli_string_expectation_value(diagonal_pauli_string, counts)\n",
    "pauli_string_expectation_value"
   ]
  },
  {
   "attachments": {},
   "cell_type": "markdown",
   "metadata": {},
   "source": [
    "## Diagonal observable expectation value\n",
    "\n",
    "This last step may seem a bit redondant, but it makes more sense if you try to implement the `BitwiseCommutingCliqueEstimator`. Anyhow, you need to implement the method `estimate_diagonal_observable_expectation_value()` so that it computes the expectation value of a diagonal observable by computing the linear combinaison of the diagonal pauli string expectation value, weighted by their respective coefficients.\n",
    "\\begin{align}\n",
    "    \\langle \\hat{\\mathcal{D}} \\rangle  = \\sum_i h_i \\langle \\hat{\\mathcal{P}}_i \\rangle \n",
    "\\end{align}"
   ]
  },
  {
   "cell_type": "code",
   "execution_count": 147,
   "metadata": {},
   "outputs": [
    {
     "name": "stdout",
     "output_type": "stream",
     "text": [
      "2.0\n"
     ]
    }
   ],
   "source": [
    "%autoreload\n",
    "\n",
    "diagonal_observable = 2*PauliString.from_str('ZZZZ') + 1*PauliString.from_str('IIZZ')\n",
    "counts = {'0101' : 50, '0000' : 50}\n",
    "observable_expectation_value = Estimator.estimate_diagonal_observable_expectation_value(diagonal_observable, counts)\n",
    "print(observable_expectation_value)"
   ]
  },
  {
   "attachments": {},
   "cell_type": "markdown",
   "metadata": {},
   "source": [
    "Again, you should get an expectation value of `0`."
   ]
  },
  {
   "attachments": {},
   "cell_type": "markdown",
   "metadata": {},
   "source": [
    "## The `eval(params)` method\n",
    "\n",
    "You have now all the pieces to complete the `eval(params)` method. This method should use many methods you've just implemented. Mathematicaly, it should return the value of the expression\n",
    "\n",
    "\\begin{align}\n",
    "    E(\\boldsymbol{\\theta}) = \\sum_i h_i \\langle\\psi(\\boldsymbol{\\theta}) | \\hat{\\mathcal{P}}_i | \\psi(\\boldsymbol{\\theta}) \\rangle.\n",
    "\\end{align}"
   ]
  },
  {
   "cell_type": "code",
   "execution_count": 148,
   "metadata": {},
   "outputs": [
    {
     "name": "stdout",
     "output_type": "stream",
     "text": [
      "Eval time (s):  0.7788589000701904\n",
      "0.0010546875\n"
     ]
    }
   ],
   "source": [
    "%autoreload\n",
    "\n",
    "varform = varform_4qubits_1param\n",
    "backend = qasm_simulator\n",
    "execute_opts = {'shots' : 100*1024, 'seed_simulator' : 1}\n",
    "evaluator = BasicEstimator(varform,backend,execute_opts = execute_opts)\n",
    "\n",
    "observable = 2*PauliString.from_str('ZYZX') + 0*PauliString.from_str('IIZZ')\n",
    "evaluator.set_observable(observable)\n",
    "params = [0,]\n",
    "expected_value = evaluator.eval(params)\n",
    "print(expected_value)"
   ]
  },
  {
   "attachments": {},
   "cell_type": "markdown",
   "metadata": {},
   "source": [
    "Yes that's right, your code now returns an estimate of the expression\n",
    "\n",
    "\\begin{align}\n",
    "    E(\\theta) = \\langle \\psi(\\theta) | \\hat{\\mathcal{H}} | \\psi(\\theta) \\rangle.\n",
    "\\end{align} \n",
    "\n",
    "for\n",
    "\n",
    "\\begin{align}\n",
    "    \\hat{\\mathcal{H}} = 2\\times \\hat{Z}\\hat{X}\\hat{Z}\\hat{X} + 1\\times \\hat{I}\\hat{I}\\hat{Z}\\hat{Z}\n",
    "\\end{align} \n",
    "\n",
    "and the varform `varform_4qubits_1param` with $\\theta = 0$. The `evaluator.eval()` is now a method you can call like a function and it will return the energy $E(\\theta)$.\n",
    "\n",
    "Now comes the time to test this on the $\\text{H}_2$ molecule Hamiltonian!"
   ]
  },
  {
   "cell_type": "markdown",
   "metadata": {},
   "source": [
    "## The Hamiltonian evaluation test\n",
    "\n",
    "We will now import the classes from the previous activity."
   ]
  },
  {
   "cell_type": "code",
   "execution_count": 149,
   "metadata": {},
   "outputs": [],
   "source": [
    "from hamiltonian import MolecularFermionicHamiltonian\n",
    "from mapping import JordanWigner"
   ]
  },
  {
   "cell_type": "markdown",
   "metadata": {},
   "source": [
    "For ease of use we will import the integral values instead of using `pyscf`. We also import the Coulomb repulsion energy for later use. By now we are experts in building the Hamiltonian."
   ]
  },
  {
   "cell_type": "code",
   "execution_count": 165,
   "metadata": {},
   "outputs": [],
   "source": [
    "with open('my_file.npz','rb') as f:\n",
    "    out = np.load(f)\n",
    "    h1_load_no_spin = out['h1']\n",
    "    h2_load_no_spin = out['h2']\n",
    "    energy_nuc =  out['energy_nuc']\n",
    "    \n",
    "molecular_hamiltonian = MolecularFermionicHamiltonian.from_integrals(h1_load_no_spin,h2_load_no_spin).include_spin()"
   ]
  },
  {
   "attachments": {},
   "cell_type": "markdown",
   "metadata": {},
   "source": [
    "We use the Jordan-Wigner mapping to the get the Hamiltonian for the H2 molecule with `d=0.735`. "
   ]
  },
  {
   "cell_type": "code",
   "execution_count": 166,
   "metadata": {},
   "outputs": [
    {
     "name": "stdout",
     "output_type": "stream",
     "text": [
      "15 pauli strings for 4 qubits (Real, Imaginary)\n",
      "IIII (-0.81055,+0.00000)\n",
      "IIIZ (+0.16647,+0.00000)\n",
      "IIZI (-0.22004,+0.00000)\n",
      "IIZZ (+0.12091,+0.00000)\n",
      "IZII (+0.16647,+0.00000)\n",
      "IZIZ (+0.17464,+0.00000)\n",
      "IZZI (+0.16615,+0.00000)\n",
      "ZIII (-0.22004,+0.00000)\n",
      "ZIIZ (+0.16615,+0.00000)\n",
      "ZIZI (+0.16893,+0.00000)\n",
      "ZZII (+0.12091,+0.00000)\n",
      "XXXX (+0.04523,+0.00000)\n",
      "XXYY (+0.04523,+0.00000)\n",
      "YYXX (+0.04523,+0.00000)\n",
      "YYYY (+0.04523,+0.00000)\n"
     ]
    }
   ],
   "source": [
    "%autoreload\n",
    "mapping = JordanWigner()\n",
    "qubit_hamiltonian = mapping.fermionic_hamiltonian_to_qubit_hamiltonian(molecular_hamiltonian).sort()\n",
    "print(qubit_hamiltonian)"
   ]
  },
  {
   "attachments": {},
   "cell_type": "markdown",
   "metadata": {},
   "source": [
    "We build an evaluator, feed it with the Hamiltonian (`LinearCombinaisonPauliString`) of H2 and then we evaluate the energy. Use `params` in order that your `varform` prepares the state $|0101\\rangle$."
   ]
  },
  {
   "cell_type": "code",
   "execution_count": 167,
   "metadata": {},
   "outputs": [
    {
     "name": "stdout",
     "output_type": "stream",
     "text": [
      "Eval time (s):  0.21576309204101562\n",
      "-0.2652989824183358\n"
     ]
    }
   ],
   "source": [
    "%autoreload\n",
    "varform = varform_4qubits_1param\n",
    "backend = qasm_simulator\n",
    "execute_opts = {'shots' : 2048}\n",
    "estimator = BasicEstimator(varform, backend,execute_opts = execute_opts)\n",
    "estimator.set_observable(qubit_hamiltonian)\n",
    "params = [np.pi,]\n",
    "expected_value = estimator.eval(params)\n",
    "print(expected_value)"
   ]
  },
  {
   "cell_type": "markdown",
   "metadata": {},
   "source": [
    "If your `varform` prepares the state $|0101\\rangle$, you should get something around `-1.83`. This energy is already close to the ground state energy because the ground state is close to $|0101\\rangle$, but still it's not the ground state. We need to find the `params` that will minimise the energy.\n",
    "\n",
    "\\begin{align}\n",
    "    E_0 = \\min_{\\boldsymbol{\\theta}} E(\\boldsymbol{\\theta})\n",
    "\\end{align}"
   ]
  },
  {
   "attachments": {},
   "cell_type": "markdown",
   "metadata": {},
   "source": [
    "# Solver\n",
    "\n",
    "In a final step we need to implement a solver that will try to find the minimal energy. We will implement 2 solvers (the second is optionnal):\n",
    "  1. Use the VQE algo in conjunction with a minimizer to try to minimize `estimator.eval()`.\n",
    "  2. (optional) Use the `to_matrix()` method you implemented in the previous activity to find the exact value/solution.\n",
    "\n",
    "## VQE Solver\n",
    "\n",
    "Like any minimzation process this solver will need a couple of ingredients :\n",
    "- A function to minimize, we will provide this with the evaluator\n",
    "- A minimizer, an algorithm that generaly takes in a function and a set of starting parameters and returns the best guess for the optimal parameters that correspond to the minimal value of the function to minimize.\n",
    "- A set of starting parameters.\n",
    "\n",
    "### Minimizer\n",
    "\n",
    "A minimizer that works OK for the VQE algorithm is the  Sequential Least SQuares Programming (SLSQP) algorithm. It's available in the `minimize` sub-module of [scipy](https://docs.scipy.org/doc/scipy/reference/optimize.minimize-slsqp.html)."
   ]
  },
  {
   "cell_type": "code",
   "execution_count": 168,
   "metadata": {},
   "outputs": [],
   "source": [
    "from scipy.optimize import minimize"
   ]
  },
  {
   "attachments": {},
   "cell_type": "markdown",
   "metadata": {},
   "source": [
    "We will make a Lambda function with the minimizer so we can set all sorts of parameters before feeding it to the solver."
   ]
  },
  {
   "cell_type": "code",
   "execution_count": 169,
   "metadata": {},
   "outputs": [],
   "source": [
    "minimizer = lambda fct, start_param_values : minimize(\n",
    "    fct,\n",
    "    start_param_values,\n",
    "    method = 'SLSQP', \n",
    "    options = {'maxiter' : 5,'eps' : 1e-1, 'ftol' : 1e-4, 'disp' : True, 'iprint' : 2})"
   ]
  },
  {
   "attachments": {},
   "cell_type": "markdown",
   "metadata": {},
   "source": [
    "The `minimizer` now takes only 2 arguments : the function and the starting parameter's values. We also specify some options :\n",
    "- A small value for the maximum number of iterations. You will find that running the VQE algorithm is expansive because of the `estimator.eval()` method. Either it's long to simulate on `qasm_simulator` or because it's running on an actual quantum computer.\n",
    "- A `eps` of `0.1`. This is the size of the step the algorithm is going to change the values of the parameters to try to estimate the slope of the function. By the way, a lot of minimizing algorithms use the slope of the function to know in which direction is the minimum. Since our parameters are all angles in radians a value of 0.1 seems reasonnable. Play with this value if you like.\n",
    "- A `ftol` value of `1e-4`. This is the goal for the precision of the value of the minimum value. The chemical accuracy is around 1 milli-Hartree.\n",
    "- We set `iprint` to `2` so to see what is going on. For your final implementation you can set this to `0`.\n",
    "\n",
    "Before implementing the `VQESolver` let's try this minimizer! The function is `estimator.eval` and we start with a parameter of `0`."
   ]
  },
  {
   "cell_type": "code",
   "execution_count": 170,
   "metadata": {},
   "outputs": [
    {
     "name": "stdout",
     "output_type": "stream",
     "text": [
      "Eval time (s):  0.36104297637939453\n",
      "Eval time (s):  0.38082003593444824\n",
      "  NIT    FC           OBJFUN            GNORM\n",
      "Eval time (s):  0.36315321922302246\n",
      "    1     3    -1.837279E+00     1.951838E-01\n",
      "Eval time (s):  0.3030967712402344\n",
      "Eval time (s):  0.29204702377319336\n",
      "    2     5    -1.829281E+00     9.582225E-02\n",
      "Eval time (s):  0.31085729598999023\n",
      "Eval time (s):  0.359116792678833\n",
      "Eval time (s):  0.37096309661865234\n",
      "Eval time (s):  0.2621889114379883\n",
      "    3     9    -1.833426E+00     7.695707E-02\n",
      "Eval time (s):  0.22125792503356934\n",
      "Eval time (s):  0.2045879364013672\n",
      "Eval time (s):  0.24470281600952148\n",
      "Eval time (s):  0.27758193016052246\n",
      "Eval time (s):  0.2100667953491211\n",
      "Eval time (s):  0.1913130283355713\n",
      "Eval time (s):  0.20956635475158691\n",
      "Eval time (s):  0.2460780143737793\n",
      "Eval time (s):  0.31067705154418945\n",
      "Eval time (s):  0.35843873023986816\n",
      "Optimization terminated successfully    (Exit mode 0)\n",
      "            Current function value: -1.8309675771579315\n",
      "            Iterations: 3\n",
      "            Function evaluations: 19\n",
      "            Gradient evaluations: 3\n"
     ]
    }
   ],
   "source": [
    "minimization_result = minimizer(estimator.eval,[0,])"
   ]
  },
  {
   "attachments": {},
   "cell_type": "markdown",
   "metadata": {},
   "source": [
    "In the end you should get a minimal energy around `1.86` Hartree. Which is a bit smaller than what we had before minimizing. You can explore the `minimization_result` to retreive this value but also the set of optimal parameters."
   ]
  },
  {
   "cell_type": "code",
   "execution_count": 171,
   "metadata": {},
   "outputs": [
    {
     "name": "stdout",
     "output_type": "stream",
     "text": [
      "[-0.22528826]\n",
      "-1.8309675771579315\n"
     ]
    }
   ],
   "source": [
    "opt_params = minimization_result.x\n",
    "opt_value = minimization_result.fun\n",
    "print(opt_params)\n",
    "print(opt_value)"
   ]
  },
  {
   "cell_type": "markdown",
   "metadata": {},
   "source": [
    "### VQE Solver\n",
    "\n",
    "Now you should be in good position to implement the `lowest_eig_value(lcps)` of the `VQESolver` class inside the `Solve.py` file. Test your method here."
   ]
  },
  {
   "cell_type": "code",
   "execution_count": 172,
   "metadata": {},
   "outputs": [],
   "source": [
    "from solver import VQESolver"
   ]
  },
  {
   "cell_type": "code",
   "execution_count": 173,
   "metadata": {},
   "outputs": [
    {
     "name": "stdout",
     "output_type": "stream",
     "text": [
      "Eval time (s):  0.3334007263183594\n",
      "Eval time (s):  0.250748872756958\n",
      "  NIT    FC           OBJFUN            GNORM\n",
      "Eval time (s):  0.292144775390625\n",
      "    1     3    -1.835322E+00     2.776670E-01\n",
      "Eval time (s):  0.2266249656677246\n",
      "Eval time (s):  0.2328810691833496\n",
      "    2     5    -1.833476E+00     6.222533E-02\n",
      "Eval time (s):  0.23084688186645508\n",
      "Eval time (s):  0.25582385063171387\n",
      "Eval time (s):  0.23083186149597168\n",
      "Eval time (s):  0.21747612953186035\n",
      "    3     9    -1.831865E+00     4.926909E-02\n",
      "Eval time (s):  0.27565574645996094\n",
      "Eval time (s):  0.3111591339111328\n",
      "Eval time (s):  0.2204759120941162\n",
      "Eval time (s):  0.2103419303894043\n",
      "Eval time (s):  0.19232726097106934\n",
      "Eval time (s):  0.2516820430755615\n",
      "Optimization terminated successfully    (Exit mode 0)\n",
      "            Current function value: -1.8371949280331008\n",
      "            Iterations: 3\n",
      "            Function evaluations: 15\n",
      "            Gradient evaluations: 3\n"
     ]
    }
   ],
   "source": [
    "%autoreload\n",
    "vqe_solver = VQESolver(estimator,minimizer,[0,],name = 'vqe_solver')\n",
    "opt_value = vqe_solver.lowest_eig_value(qubit_hamiltonian)"
   ]
  },
  {
   "attachments": {},
   "cell_type": "markdown",
   "metadata": {},
   "source": [
    "There is only one thing missing to have the complete molecular energy : the Coulomb repulsion energy from the nucleus. This value was loaded when we imported the integrals. Let's add it to the electronic energy."
   ]
  },
  {
   "cell_type": "code",
   "execution_count": 174,
   "metadata": {},
   "outputs": [
    {
     "name": "stdout",
     "output_type": "stream",
     "text": [
      "Ground state position estimate (vqe) :  [-0.28222521]\n",
      "Ground state energy estimate (electronic, vqe) :  -1.8371949280331008\n",
      "Ground state energy estimate (molecular, vqe) :  -1.117225933584121\n"
     ]
    }
   ],
   "source": [
    "print('Ground state position estimate (vqe) : ', vqe_solver.last_opt_params)\n",
    "print('Ground state energy estimate (electronic, vqe) : ', opt_value)\n",
    "print('Ground state energy estimate (molecular, vqe) : ', opt_value + energy_nuc)"
   ]
  },
  {
   "cell_type": "markdown",
   "metadata": {},
   "source": [
    "### The Eigenstate\n",
    "\n",
    "What is the eigenstate? We can partially find out by using the `varform` with the parameters we have found and measure everything in the Z basis."
   ]
  },
  {
   "cell_type": "code",
   "execution_count": 175,
   "metadata": {},
   "outputs": [
    {
     "data": {
      "text/plain": "<Figure size 1165.66x451.5 with 1 Axes>",
      "image/png": "[encoded data removed]"
     },
     "execution_count": 175,
     "metadata": {},
     "output_type": "execute_result"
    }
   ],
   "source": [
    "eigenstate_qc = varform.copy()\n",
    "eigenstate_qc.measure_all()\n",
    "\n",
    "param_dict = dict(zip(eigenstate_qc.parameters,opt_params))\n",
    "eigenstate_qc = eigenstate_qc.assign_parameters(param_dict)\n",
    "\n",
    "eigenstate_qc.draw('mpl')"
   ]
  },
  {
   "cell_type": "markdown",
   "metadata": {},
   "source": [
    "We now execute this circuit."
   ]
  },
  {
   "cell_type": "code",
   "execution_count": 176,
   "metadata": {},
   "outputs": [],
   "source": [
    "execute_opts = {'shots' : 1024}\n",
    "job = execute(eigenstate_qc,backend=qasm_simulator,**execute_opts)\n",
    "result = job.result()\n",
    "counts = result.get_counts(eigenstate_qc)"
   ]
  },
  {
   "cell_type": "markdown",
   "metadata": {},
   "source": [
    "We will use the `plot_histogram` method from `qiskit.visualization` that takes the counts `dict` as an input. "
   ]
  },
  {
   "cell_type": "code",
   "execution_count": 177,
   "metadata": {},
   "outputs": [],
   "source": [
    "from qiskit.visualization import plot_histogram"
   ]
  },
  {
   "cell_type": "code",
   "execution_count": 178,
   "metadata": {},
   "outputs": [
    {
     "data": {
      "text/plain": "<Figure size 700x500 with 1 Axes>",
      "image/png": "[encoded data removed]"
     },
     "execution_count": 178,
     "metadata": {},
     "output_type": "execute_result"
    }
   ],
   "source": [
    "plot_histogram(counts)"
   ]
  },
  {
   "attachments": {},
   "cell_type": "markdown",
   "metadata": {},
   "source": [
    "We see that the found solution is mostly the state $|0101\\rangle$ which is the Hartree-Fock solution when the 2-body Hamiltonian is not present. Adding this 2-body physics shifts the energy down a bit by introducing a small contribution of $|1010\\rangle$. The actual statevector has a `-` sign between these two states.\n",
    "\n",
    "\\begin{align}\n",
    "\\alpha_{0101}|0101\\rangle - \\alpha_{1010}|0101\\rangle\n",
    "\\end{align}\n",
    "\n",
    "But this is not something we can know from this. Fortunatly, H2 is a small system which can be solved exactly and we can find out this phase."
   ]
  },
  {
   "cell_type": "code",
   "execution_count": 182,
   "outputs": [
    {
     "name": "stderr",
     "output_type": "stream",
     "text": [
      "ibmqfactory.load_account:WARNING:2023-02-06 08:07:32,602: Credentials are already in use. The existing account in the session will be replaced.\n"
     ]
    },
    {
     "data": {
      "text/plain": "<AccountProvider for IBMQ(hub='ibm-q', group='open', project='main')>"
     },
     "execution_count": 182,
     "metadata": {},
     "output_type": "execute_result"
    }
   ],
   "source": [
    "from qiskit import IBMQ\n",
    "#IBMQ.save_account(\"TOKEN\", overwrite=True)\n",
    "IBMQ.load_account()"
   ],
   "metadata": {
    "collapsed": false
   }
  },
  {
   "cell_type": "code",
   "execution_count": 188,
   "outputs": [],
   "source": [
    "provider = IBMQ.get_provider(hub='ibm-q-qida', group='pinq2', project='winter-school')\n",
    "backend = provider.get_backend('ibm_lagos')"
   ],
   "metadata": {
    "collapsed": false
   }
  },
  {
   "cell_type": "code",
   "execution_count": 189,
   "outputs": [
    {
     "name": "stdout",
     "output_type": "stream",
     "text": [
      "Eval time (s):  1911.014412164688\n",
      "-0.3235459275772607\n"
     ]
    }
   ],
   "source": [
    "%autoreload\n",
    "varform = varform_4qubits_1param\n",
    "#backend = qasm_simulator\n",
    "execute_opts = {'shots' : 2048}\n",
    "estimator = BasicEstimator(varform, backend,execute_opts = execute_opts)\n",
    "estimator.set_observable(qubit_hamiltonian)\n",
    "params = [np.pi,]\n",
    "expected_value = estimator.eval(params)\n",
    "print(expected_value)"
   ],
   "metadata": {
    "collapsed": false
   }
  },
  {
   "cell_type": "code",
   "execution_count": 190,
   "outputs": [
    {
     "name": "stderr",
     "output_type": "stream",
     "text": [
      "UsageError: Line magic function `%` not found.\n"
     ]
    }
   ],
   "source": [
    "% autoreload\n",
    "vqe_solver = VQESolver(estimator, minimizer, [0, ], name='vqe_solver')\n",
    "opt_value = vqe_solver.lowest_eig_value(qubit_hamiltonian)"
   ],
   "metadata": {
    "collapsed": false
   }
  },
  {
   "cell_type": "code",
   "execution_count": null,
   "outputs": [],
   "source": [
    "print('Ground state position estimate (vqe) : ', vqe_solver.last_opt_params)\n",
    "print('Ground state energy estimate (electronic, vqe) : ', opt_value)\n",
    "print('Ground state energy estimate (molecular, vqe) : ', opt_value + energy_nuc)"
   ],
   "metadata": {
    "collapsed": false
   }
  },
  {
   "cell_type": "markdown",
   "metadata": {},
   "source": [
    "## Exact Solver (optional)\n",
    "\n",
    "If you want to compare the value you get with the VQE algorithm it would be nice to have the exact value. If you were able to implement the `to_matrix()` method for `PauliString` and `LinearCombinaisonPauliString` then you can find the exact value of the ground state. All you need is to diagonalise the matrix reprensenting the whole Hamiltonian and find the lowest eigenvalue! Obviously this will not be possible to do for very large systems."
   ]
  },
  {
   "cell_type": "code",
   "execution_count": 179,
   "metadata": {},
   "outputs": [
    {
     "ename": "NotImplementedError",
     "evalue": "",
     "output_type": "error",
     "traceback": [
      "\u001B[0;31m---------------------------------------------------------------------------\u001B[0m",
      "\u001B[0;31mNotImplementedError\u001B[0m                       Traceback (most recent call last)",
      "Cell \u001B[0;32mIn[179], line 1\u001B[0m\n\u001B[0;32m----> 1\u001B[0m hamiltonian_matrix \u001B[38;5;241m=\u001B[39m \u001B[43mqubit_hamiltonian\u001B[49m\u001B[38;5;241;43m.\u001B[39;49m\u001B[43mto_matrix\u001B[49m\u001B[43m(\u001B[49m\u001B[43m)\u001B[49m\n\u001B[1;32m      2\u001B[0m eig_values, eig_vectors \u001B[38;5;241m=\u001B[39m np\u001B[38;5;241m.\u001B[39mlinalg\u001B[38;5;241m.\u001B[39meigh(hamiltonian_matrix)\n\u001B[1;32m      3\u001B[0m eig_order \u001B[38;5;241m=\u001B[39m np\u001B[38;5;241m.\u001B[39margsort(eig_values)\n",
      "File \u001B[0;32m~/Documents/Studium/UBC PhD/Workshops/Quantum Chemistry with Gate-Based Quantum Computing Using IBM Quantum/team4/pauli_string.py:609\u001B[0m, in \u001B[0;36mLinearCombinaisonPauliString.to_matrix\u001B[0;34m(self)\u001B[0m\n\u001B[1;32m    601\u001B[0m matrix \u001B[38;5;241m=\u001B[39m np\u001B[38;5;241m.\u001B[39mzeros((size, size), dtype\u001B[38;5;241m=\u001B[39mnp\u001B[38;5;241m.\u001B[39mcomplex128)\n\u001B[1;32m    603\u001B[0m \u001B[38;5;66;03m################################################################################################################\u001B[39;00m\n\u001B[1;32m    604\u001B[0m \u001B[38;5;66;03m# YOUR CODE HERE (OPTIONAL)\u001B[39;00m\n\u001B[1;32m    605\u001B[0m \u001B[38;5;66;03m# TO COMPLETE (after lecture on mapping)\u001B[39;00m\n\u001B[1;32m    606\u001B[0m \u001B[38;5;66;03m# Hints : sum all the matrices of all PauliStrings weighted by their coef\u001B[39;00m\n\u001B[1;32m    607\u001B[0m \u001B[38;5;66;03m################################################################################################################\u001B[39;00m\n\u001B[0;32m--> 609\u001B[0m \u001B[38;5;28;01mraise\u001B[39;00m \u001B[38;5;167;01mNotImplementedError\u001B[39;00m()\n\u001B[1;32m    611\u001B[0m \u001B[38;5;28;01mreturn\u001B[39;00m matrix\n",
      "\u001B[0;31mNotImplementedError\u001B[0m: "
     ]
    }
   ],
   "source": [
    "hamiltonian_matrix = qubit_hamiltonian.to_matrix()\n",
    "eig_values, eig_vectors = np.linalg.eigh(hamiltonian_matrix)\n",
    "eig_order = np.argsort(eig_values)\n",
    "eig_values = eig_values[eig_order]\n",
    "eig_vectors = eig_vectors[:,eig_order]\n",
    "ground_state_value, ground_state_vector = eig_values[0], eig_vectors[:,0]\n",
    "print('Ground state vector (exact) : ', ground_state_vector)\n",
    "print('Ground state energy (electronic, exact) : ', ground_state_value)\n",
    "print('Ground state energy (molecular, exact) : ', ground_state_value + energy_nuc)"
   ]
  },
  {
   "cell_type": "markdown",
   "metadata": {},
   "source": [
    "Now you can complete the `ExactSolver` in the `Solver.py` file."
   ]
  },
  {
   "cell_type": "code",
   "execution_count": null,
   "metadata": {},
   "outputs": [],
   "source": [
    "from solver import ExactSolver"
   ]
  },
  {
   "cell_type": "code",
   "execution_count": null,
   "metadata": {},
   "outputs": [],
   "source": [
    "%autoreload\n",
    "exact_solver = ExactSolver()\n",
    "ground_state_value, ground_state_vector = exact_solver.lowest_eig_value(qubit_hamiltonian)\n",
    "print('Ground state vector (exact) : ', ground_state_vector)\n",
    "print('Ground state energy (electronic, exact) : ', ground_state_value)\n",
    "print('Ground state energy (molecular, exact) : ', ground_state_value + energy_nuc)"
   ]
  },
  {
   "attachments": {},
   "cell_type": "markdown",
   "metadata": {},
   "source": [
    "What are the two basis states involved in the ground state? Let's plot the state vector using `matplotlib`."
   ]
  },
  {
   "cell_type": "code",
   "execution_count": null,
   "metadata": {},
   "outputs": [],
   "source": [
    "import matplotlib.pyplot as plt"
   ]
  },
  {
   "cell_type": "code",
   "execution_count": null,
   "metadata": {},
   "outputs": [],
   "source": [
    "fig,ax = plt.subplots(1,1)\n",
    "i_max = np.argmax(np.abs(ground_state_vector))\n",
    "state = ground_state_vector * np.sign(ground_state_vector[i_max])\n",
    "ax.bar(range(len(state)),np.abs(state),color=(np.real(state) > 0).choose(['r','b']))\n",
    "plt.xticks(range(len(state)),[f\"{i:04b}\" for i in range(len(state))], size='small',rotation=60);"
   ]
  },
  {
   "attachments": {},
   "cell_type": "markdown",
   "metadata": {},
   "source": [
    "# What's next?\n",
    "\n",
    "Now that you can find the ground state for a specific H2 molecule configuration (`d = 0.735`), you should be able to do that for many configurations, say `d = 0.2` to `2.5`. Doing that will enable you to plot the so-called dissociation curve : energy vs distance. Do not forget to include the Coulomb repulsion energy of the nucleus!\n",
    "\n",
    "You could also run your algorithm on a noisy backend, either a noisy simulator or a real quantum computer. You've already seen on day 1 how to set/get a noisy backend. You'll see that noise messes things up pretty bad.\n",
    "\n",
    "Running on real machine will introduce the problem of the qubit layout. You might want to change the `initial_layout` in the `execute_opts` so that your `varform` is not applying CNOT gates between qubits that are not connected. You know this needs to insert SWAP gates and this introduces more noise. Also covered in day 1.\n",
    "\n",
    "To limit the effect of readout noise, you could add a `measure_filter` to your `evaluator`, so that each time you execute the `eval_circuits` you apply the filter to the results. Also covered in day 1.\n",
    "\n",
    "Implement the simulatneous evaluation for bitwise commuting cliques or even for general commuting cliques."
   ]
  },
  {
   "cell_type": "markdown",
   "metadata": {},
   "source": [
    "Notebook by **Maxime Dion** <maxime.dion@usherbrooke.ca><br>\n",
    "For the QSciTech-QuantumBC virtual workshop on gate-based quantum computing"
   ]
  }
 ],
 "metadata": {
  "kernelspec": {
   "display_name": "Python 3",
   "language": "python",
   "name": "python3"
  },
  "language_info": {
   "codemirror_mode": {
    "name": "ipython",
    "version": 3
   },
   "file_extension": ".py",
   "mimetype": "text/x-python",
   "name": "python",
   "nbconvert_exporter": "python",
   "pygments_lexer": "ipython3",
   "version": "3.9.6"
  },
  "toc": {
   "base_numbering": 1,
   "nav_menu": {},
   "number_sections": true,
   "sideBar": true,
   "skip_h1_title": false,
   "title_cell": "Table of Contents",
   "title_sidebar": "Contents",
   "toc_cell": false,
   "toc_position": {},
   "toc_section_display": true,
   "toc_window_display": false
  },
  "vscode": {
   "interpreter": {
    "hash": "31f2aee4e71d21fbe5cf8b01ff0e069b9275f58929596ceb00d14d90e3e16cd6"
   }
  }
 },
 "nbformat": 4,
 "nbformat_minor": 2
}
